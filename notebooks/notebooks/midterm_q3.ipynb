{
 "cells": [
  {
   "cell_type": "code",
   "execution_count": 1,
   "id": "fe2d15fd",
   "metadata": {},
   "outputs": [],
   "source": [
    "import pandas as pd\n",
    "from sklearn.model_selection import train_test_split\n",
    "import re\n",
    "import string"
   ]
  },
  {
   "cell_type": "code",
   "execution_count": 2,
   "id": "49520f69",
   "metadata": {},
   "outputs": [],
   "source": [
    "# Reading cleaned_dataset.csv and loading them to dataset\n",
    "data = pd.read_csv(\"cleaned_dataset.csv\") "
   ]
  },
  {
   "cell_type": "code",
   "execution_count": 3,
   "id": "76b6f4db",
   "metadata": {},
   "outputs": [],
   "source": [
    "#  This function clean text data for sentiment analysis\n",
    "def clean_text(text):\n",
    "    text = text.lower()  # Converting every letter in text to lowercase\n",
    "    text = re.sub(r\"[^\\w\\s,.?!]+|[\\ud800-\\udbff]|[\\u2700-\\u27bf]\", '', text)  # Removing emojies\n",
    "    text = text.translate(str.maketrans('', '', string.punctuation))  # Removing punctuation\n",
    "    return text"
   ]
  },
  {
   "cell_type": "code",
   "execution_count": 4,
   "id": "4520e0c9",
   "metadata": {},
   "outputs": [],
   "source": [
    "# Applying above function to our data in the content column\n",
    "data['content'] = data['content'].apply(clean_text)"
   ]
  },
  {
   "cell_type": "code",
   "execution_count": 5,
   "id": "6088f1c4",
   "metadata": {},
   "outputs": [],
   "source": [
    "# In here spliting our data for testing and training\n",
    "train_data, test_data = train_test_split(data, test_size=0.2, random_state=442) "
   ]
  },
  {
   "cell_type": "code",
   "execution_count": 6,
   "id": "8f2a091e",
   "metadata": {},
   "outputs": [],
   "source": [
    "#Saving trainig sets to train_data.csv\n",
    "#Saving testing sets to test_data.csv\n",
    "train_data.to_csv(\"train_data.csv\", index=False)\n",
    "test_data.to_csv(\"test_data.csv\", index=False)"
   ]
  },
  {
   "cell_type": "code",
   "execution_count": null,
   "id": "39036654",
   "metadata": {},
   "outputs": [],
   "source": []
  }
 ],
 "metadata": {
  "kernelspec": {
   "display_name": "Python 3 (ipykernel)",
   "language": "python",
   "name": "python3"
  },
  "language_info": {
   "codemirror_mode": {
    "name": "ipython",
    "version": 3
   },
   "file_extension": ".py",
   "mimetype": "text/x-python",
   "name": "python",
   "nbconvert_exporter": "python",
   "pygments_lexer": "ipython3",
   "version": "3.9.18"
  }
 },
 "nbformat": 4,
 "nbformat_minor": 5
}
